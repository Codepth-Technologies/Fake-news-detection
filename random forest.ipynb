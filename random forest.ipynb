{
 "cells": [
  {
   "cell_type": "code",
   "execution_count": 1,
   "metadata": {},
   "outputs": [],
   "source": [
    "# This Python 3 environment comes with many helpful analytics libraries installed\n",
    "# It is defined by the kaggle/python Docker image: https://github.com/kaggle/docker-python\n",
    "# For example, here's several helpful packages to load\n",
    "\n",
    "import numpy as np # linear algebra\n",
    "import pandas as pd # data processing, CSV file I/O (e.g. pd.read_csv)\n",
    "\n",
    "# Input data files are available in the read-only \"../input/\" directory\n",
    "# For example, running this (by clicking run or pressing Shift+Enter) will list all files under the input directory\n",
    "\n",
    "import os\n",
    "for dirname, _, filenames in os.walk('/kaggle/input'):\n",
    "    for filename in filenames:\n",
    "        print(os.path.join(dirname, filename))\n",
    "\n",
    "# You can write up to 5GB to the current directory (/kaggle/working/) that gets preserved as output when you create a version using \"Save & Run All\" \n",
    "# You can also write temporary files to /kaggle/temp/, but they won't be saved outside of the current session"
   ]
  },
  {
   "cell_type": "code",
   "execution_count": 2,
   "metadata": {},
   "outputs": [],
   "source": [
    "import pandas as pd\n",
    "from sklearn.feature_extraction.text import CountVectorizer\n",
    "from sklearn.model_selection import GridSearchCV\n",
    "from sklearn.svm import SVC\n",
    "from sklearn.model_selection import train_test_split\n",
    "from sklearn.metrics import classification_report"
   ]
  },
  {
   "cell_type": "code",
   "execution_count": 3,
   "metadata": {},
   "outputs": [],
   "source": [
    "df = pd.read_csv(r\"D:\\jupyter notebook\\nlp\\codepth\\datasets_72366_159129_BuzzFeed_fake_news_content.csv\")"
   ]
  },
  {
   "cell_type": "code",
   "execution_count": 4,
   "metadata": {},
   "outputs": [],
   "source": [
    "dff = pd.read_csv(r\"D:\\jupyter notebook\\nlp\\codepth\\datasets_72366_159129_BuzzFeed_real_news_content.csv\")"
   ]
  },
  {
   "cell_type": "code",
   "execution_count": 5,
   "metadata": {},
   "outputs": [
    {
     "data": {
      "text/html": [
       "<div>\n",
       "<style scoped>\n",
       "    .dataframe tbody tr th:only-of-type {\n",
       "        vertical-align: middle;\n",
       "    }\n",
       "\n",
       "    .dataframe tbody tr th {\n",
       "        vertical-align: top;\n",
       "    }\n",
       "\n",
       "    .dataframe thead th {\n",
       "        text-align: right;\n",
       "    }\n",
       "</style>\n",
       "<table border=\"1\" class=\"dataframe\">\n",
       "  <thead>\n",
       "    <tr style=\"text-align: right;\">\n",
       "      <th></th>\n",
       "      <th>id</th>\n",
       "      <th>title</th>\n",
       "      <th>text</th>\n",
       "      <th>url</th>\n",
       "      <th>top_img</th>\n",
       "      <th>authors</th>\n",
       "      <th>source</th>\n",
       "      <th>publish_date</th>\n",
       "      <th>movies</th>\n",
       "      <th>images</th>\n",
       "      <th>canonical_link</th>\n",
       "      <th>meta_data</th>\n",
       "    </tr>\n",
       "  </thead>\n",
       "  <tbody>\n",
       "    <tr>\n",
       "      <th>0</th>\n",
       "      <td>Fake_1-Webpage</td>\n",
       "      <td>Proof The Mainstream Media Is Manipulating The...</td>\n",
       "      <td>I woke up this morning to find a variation of ...</td>\n",
       "      <td>http://www.addictinginfo.org/2016/09/19/proof-...</td>\n",
       "      <td>http://addictinginfo.addictinginfoent.netdna-c...</td>\n",
       "      <td>Wendy Gittleson</td>\n",
       "      <td>http://www.addictinginfo.org</td>\n",
       "      <td>{'$date': 1474243200000}</td>\n",
       "      <td>NaN</td>\n",
       "      <td>http://i.imgur.com/JeqZLhj.png,http://addictin...</td>\n",
       "      <td>http://addictinginfo.com/2016/09/19/proof-the-...</td>\n",
       "      <td>{\"publisher\": \"Addicting Info | The Knowledge ...</td>\n",
       "    </tr>\n",
       "    <tr>\n",
       "      <th>1</th>\n",
       "      <td>Fake_10-Webpage</td>\n",
       "      <td>Charity: Clinton Foundation Distributed “Water...</td>\n",
       "      <td>Former President Bill Clinton and his Clinton ...</td>\n",
       "      <td>http://eaglerising.com/36899/charity-clinton-f...</td>\n",
       "      <td>http://eaglerising.com/wp-content/uploads/2016...</td>\n",
       "      <td>View All Posts</td>\n",
       "      <td>http://eaglerising.com</td>\n",
       "      <td>{'$date': 1474416521000}</td>\n",
       "      <td>NaN</td>\n",
       "      <td>http://constitution.com/wp-content/uploads/201...</td>\n",
       "      <td>http://eaglerising.com/36899/charity-clinton-f...</td>\n",
       "      <td>{\"description\": \"The possibility that CHAI dis...</td>\n",
       "    </tr>\n",
       "    <tr>\n",
       "      <th>2</th>\n",
       "      <td>Fake_11-Webpage</td>\n",
       "      <td>A Hillary Clinton Administration May be Entire...</td>\n",
       "      <td>After collapsing just before trying to step in...</td>\n",
       "      <td>http://eaglerising.com/36880/a-hillary-clinton...</td>\n",
       "      <td>http://eaglerising.com/wp-content/uploads/2016...</td>\n",
       "      <td>View All Posts,Tony Elliott</td>\n",
       "      <td>http://eaglerising.com</td>\n",
       "      <td>{'$date': 1474416638000}</td>\n",
       "      <td>NaN</td>\n",
       "      <td>http://constitution.com/wp-content/uploads/201...</td>\n",
       "      <td>http://eaglerising.com/36880/a-hillary-clinton...</td>\n",
       "      <td>{\"description\": \"Hillary Clinton may be the fi...</td>\n",
       "    </tr>\n",
       "    <tr>\n",
       "      <th>3</th>\n",
       "      <td>Fake_12-Webpage</td>\n",
       "      <td>Trump’s Latest Campaign Promise May Be His Mos...</td>\n",
       "      <td>Donald Trump is, well, deplorable. He’s sugges...</td>\n",
       "      <td>http://www.addictinginfo.org/2016/09/19/trumps...</td>\n",
       "      <td>http://addictinginfo.addictinginfoent.netdna-c...</td>\n",
       "      <td>John Prager</td>\n",
       "      <td>http://www.addictinginfo.org</td>\n",
       "      <td>{'$date': 1474243200000}</td>\n",
       "      <td>NaN</td>\n",
       "      <td>http://i.imgur.com/JeqZLhj.png,http://2.gravat...</td>\n",
       "      <td>http://addictinginfo.com/2016/09/19/trumps-lat...</td>\n",
       "      <td>{\"publisher\": \"Addicting Info | The Knowledge ...</td>\n",
       "    </tr>\n",
       "    <tr>\n",
       "      <th>4</th>\n",
       "      <td>Fake_13-Webpage</td>\n",
       "      <td>Website is Down For Maintenance</td>\n",
       "      <td>Website is Down For Maintenance</td>\n",
       "      <td>http://www.proudcons.com/clinton-foundation-ca...</td>\n",
       "      <td>NaN</td>\n",
       "      <td>NaN</td>\n",
       "      <td>http://www.proudcons.com</td>\n",
       "      <td>NaN</td>\n",
       "      <td>NaN</td>\n",
       "      <td>NaN</td>\n",
       "      <td>NaN</td>\n",
       "      <td>{\"og\": {\"url\": \"http://www.proudcons.com\", \"ty...</td>\n",
       "    </tr>\n",
       "  </tbody>\n",
       "</table>\n",
       "</div>"
      ],
      "text/plain": [
       "                id                                              title  \\\n",
       "0   Fake_1-Webpage  Proof The Mainstream Media Is Manipulating The...   \n",
       "1  Fake_10-Webpage  Charity: Clinton Foundation Distributed “Water...   \n",
       "2  Fake_11-Webpage  A Hillary Clinton Administration May be Entire...   \n",
       "3  Fake_12-Webpage  Trump’s Latest Campaign Promise May Be His Mos...   \n",
       "4  Fake_13-Webpage                    Website is Down For Maintenance   \n",
       "\n",
       "                                                text  \\\n",
       "0  I woke up this morning to find a variation of ...   \n",
       "1  Former President Bill Clinton and his Clinton ...   \n",
       "2  After collapsing just before trying to step in...   \n",
       "3  Donald Trump is, well, deplorable. He’s sugges...   \n",
       "4                    Website is Down For Maintenance   \n",
       "\n",
       "                                                 url  \\\n",
       "0  http://www.addictinginfo.org/2016/09/19/proof-...   \n",
       "1  http://eaglerising.com/36899/charity-clinton-f...   \n",
       "2  http://eaglerising.com/36880/a-hillary-clinton...   \n",
       "3  http://www.addictinginfo.org/2016/09/19/trumps...   \n",
       "4  http://www.proudcons.com/clinton-foundation-ca...   \n",
       "\n",
       "                                             top_img  \\\n",
       "0  http://addictinginfo.addictinginfoent.netdna-c...   \n",
       "1  http://eaglerising.com/wp-content/uploads/2016...   \n",
       "2  http://eaglerising.com/wp-content/uploads/2016...   \n",
       "3  http://addictinginfo.addictinginfoent.netdna-c...   \n",
       "4                                                NaN   \n",
       "\n",
       "                       authors                        source  \\\n",
       "0              Wendy Gittleson  http://www.addictinginfo.org   \n",
       "1               View All Posts        http://eaglerising.com   \n",
       "2  View All Posts,Tony Elliott        http://eaglerising.com   \n",
       "3                  John Prager  http://www.addictinginfo.org   \n",
       "4                          NaN      http://www.proudcons.com   \n",
       "\n",
       "               publish_date movies  \\\n",
       "0  {'$date': 1474243200000}    NaN   \n",
       "1  {'$date': 1474416521000}    NaN   \n",
       "2  {'$date': 1474416638000}    NaN   \n",
       "3  {'$date': 1474243200000}    NaN   \n",
       "4                       NaN    NaN   \n",
       "\n",
       "                                              images  \\\n",
       "0  http://i.imgur.com/JeqZLhj.png,http://addictin...   \n",
       "1  http://constitution.com/wp-content/uploads/201...   \n",
       "2  http://constitution.com/wp-content/uploads/201...   \n",
       "3  http://i.imgur.com/JeqZLhj.png,http://2.gravat...   \n",
       "4                                                NaN   \n",
       "\n",
       "                                      canonical_link  \\\n",
       "0  http://addictinginfo.com/2016/09/19/proof-the-...   \n",
       "1  http://eaglerising.com/36899/charity-clinton-f...   \n",
       "2  http://eaglerising.com/36880/a-hillary-clinton...   \n",
       "3  http://addictinginfo.com/2016/09/19/trumps-lat...   \n",
       "4                                                NaN   \n",
       "\n",
       "                                           meta_data  \n",
       "0  {\"publisher\": \"Addicting Info | The Knowledge ...  \n",
       "1  {\"description\": \"The possibility that CHAI dis...  \n",
       "2  {\"description\": \"Hillary Clinton may be the fi...  \n",
       "3  {\"publisher\": \"Addicting Info | The Knowledge ...  \n",
       "4  {\"og\": {\"url\": \"http://www.proudcons.com\", \"ty...  "
      ]
     },
     "execution_count": 5,
     "metadata": {},
     "output_type": "execute_result"
    }
   ],
   "source": [
    "df.head()"
   ]
  },
  {
   "cell_type": "code",
   "execution_count": 6,
   "metadata": {},
   "outputs": [],
   "source": [
    "df['label'] = 'fake'"
   ]
  },
  {
   "cell_type": "code",
   "execution_count": 7,
   "metadata": {},
   "outputs": [],
   "source": [
    "df = df[['title', 'text', 'url', 'authors', 'source', 'meta_data', 'label']]"
   ]
  },
  {
   "cell_type": "code",
   "execution_count": 8,
   "metadata": {},
   "outputs": [
    {
     "data": {
      "text/html": [
       "<div>\n",
       "<style scoped>\n",
       "    .dataframe tbody tr th:only-of-type {\n",
       "        vertical-align: middle;\n",
       "    }\n",
       "\n",
       "    .dataframe tbody tr th {\n",
       "        vertical-align: top;\n",
       "    }\n",
       "\n",
       "    .dataframe thead th {\n",
       "        text-align: right;\n",
       "    }\n",
       "</style>\n",
       "<table border=\"1\" class=\"dataframe\">\n",
       "  <thead>\n",
       "    <tr style=\"text-align: right;\">\n",
       "      <th></th>\n",
       "      <th>title</th>\n",
       "      <th>text</th>\n",
       "      <th>url</th>\n",
       "      <th>authors</th>\n",
       "      <th>source</th>\n",
       "      <th>meta_data</th>\n",
       "      <th>label</th>\n",
       "    </tr>\n",
       "  </thead>\n",
       "  <tbody>\n",
       "    <tr>\n",
       "      <th>0</th>\n",
       "      <td>Proof The Mainstream Media Is Manipulating The...</td>\n",
       "      <td>I woke up this morning to find a variation of ...</td>\n",
       "      <td>http://www.addictinginfo.org/2016/09/19/proof-...</td>\n",
       "      <td>Wendy Gittleson</td>\n",
       "      <td>http://www.addictinginfo.org</td>\n",
       "      <td>{\"publisher\": \"Addicting Info | The Knowledge ...</td>\n",
       "      <td>fake</td>\n",
       "    </tr>\n",
       "    <tr>\n",
       "      <th>1</th>\n",
       "      <td>Charity: Clinton Foundation Distributed “Water...</td>\n",
       "      <td>Former President Bill Clinton and his Clinton ...</td>\n",
       "      <td>http://eaglerising.com/36899/charity-clinton-f...</td>\n",
       "      <td>View All Posts</td>\n",
       "      <td>http://eaglerising.com</td>\n",
       "      <td>{\"description\": \"The possibility that CHAI dis...</td>\n",
       "      <td>fake</td>\n",
       "    </tr>\n",
       "    <tr>\n",
       "      <th>2</th>\n",
       "      <td>A Hillary Clinton Administration May be Entire...</td>\n",
       "      <td>After collapsing just before trying to step in...</td>\n",
       "      <td>http://eaglerising.com/36880/a-hillary-clinton...</td>\n",
       "      <td>View All Posts,Tony Elliott</td>\n",
       "      <td>http://eaglerising.com</td>\n",
       "      <td>{\"description\": \"Hillary Clinton may be the fi...</td>\n",
       "      <td>fake</td>\n",
       "    </tr>\n",
       "    <tr>\n",
       "      <th>3</th>\n",
       "      <td>Trump’s Latest Campaign Promise May Be His Mos...</td>\n",
       "      <td>Donald Trump is, well, deplorable. He’s sugges...</td>\n",
       "      <td>http://www.addictinginfo.org/2016/09/19/trumps...</td>\n",
       "      <td>John Prager</td>\n",
       "      <td>http://www.addictinginfo.org</td>\n",
       "      <td>{\"publisher\": \"Addicting Info | The Knowledge ...</td>\n",
       "      <td>fake</td>\n",
       "    </tr>\n",
       "    <tr>\n",
       "      <th>4</th>\n",
       "      <td>Website is Down For Maintenance</td>\n",
       "      <td>Website is Down For Maintenance</td>\n",
       "      <td>http://www.proudcons.com/clinton-foundation-ca...</td>\n",
       "      <td>NaN</td>\n",
       "      <td>http://www.proudcons.com</td>\n",
       "      <td>{\"og\": {\"url\": \"http://www.proudcons.com\", \"ty...</td>\n",
       "      <td>fake</td>\n",
       "    </tr>\n",
       "  </tbody>\n",
       "</table>\n",
       "</div>"
      ],
      "text/plain": [
       "                                               title  \\\n",
       "0  Proof The Mainstream Media Is Manipulating The...   \n",
       "1  Charity: Clinton Foundation Distributed “Water...   \n",
       "2  A Hillary Clinton Administration May be Entire...   \n",
       "3  Trump’s Latest Campaign Promise May Be His Mos...   \n",
       "4                    Website is Down For Maintenance   \n",
       "\n",
       "                                                text  \\\n",
       "0  I woke up this morning to find a variation of ...   \n",
       "1  Former President Bill Clinton and his Clinton ...   \n",
       "2  After collapsing just before trying to step in...   \n",
       "3  Donald Trump is, well, deplorable. He’s sugges...   \n",
       "4                    Website is Down For Maintenance   \n",
       "\n",
       "                                                 url  \\\n",
       "0  http://www.addictinginfo.org/2016/09/19/proof-...   \n",
       "1  http://eaglerising.com/36899/charity-clinton-f...   \n",
       "2  http://eaglerising.com/36880/a-hillary-clinton...   \n",
       "3  http://www.addictinginfo.org/2016/09/19/trumps...   \n",
       "4  http://www.proudcons.com/clinton-foundation-ca...   \n",
       "\n",
       "                       authors                        source  \\\n",
       "0              Wendy Gittleson  http://www.addictinginfo.org   \n",
       "1               View All Posts        http://eaglerising.com   \n",
       "2  View All Posts,Tony Elliott        http://eaglerising.com   \n",
       "3                  John Prager  http://www.addictinginfo.org   \n",
       "4                          NaN      http://www.proudcons.com   \n",
       "\n",
       "                                           meta_data label  \n",
       "0  {\"publisher\": \"Addicting Info | The Knowledge ...  fake  \n",
       "1  {\"description\": \"The possibility that CHAI dis...  fake  \n",
       "2  {\"description\": \"Hillary Clinton may be the fi...  fake  \n",
       "3  {\"publisher\": \"Addicting Info | The Knowledge ...  fake  \n",
       "4  {\"og\": {\"url\": \"http://www.proudcons.com\", \"ty...  fake  "
      ]
     },
     "execution_count": 8,
     "metadata": {},
     "output_type": "execute_result"
    }
   ],
   "source": [
    "df.head()"
   ]
  },
  {
   "cell_type": "code",
   "execution_count": 9,
   "metadata": {},
   "outputs": [
    {
     "data": {
      "text/html": [
       "<div>\n",
       "<style scoped>\n",
       "    .dataframe tbody tr th:only-of-type {\n",
       "        vertical-align: middle;\n",
       "    }\n",
       "\n",
       "    .dataframe tbody tr th {\n",
       "        vertical-align: top;\n",
       "    }\n",
       "\n",
       "    .dataframe thead th {\n",
       "        text-align: right;\n",
       "    }\n",
       "</style>\n",
       "<table border=\"1\" class=\"dataframe\">\n",
       "  <thead>\n",
       "    <tr style=\"text-align: right;\">\n",
       "      <th></th>\n",
       "      <th>id</th>\n",
       "      <th>title</th>\n",
       "      <th>text</th>\n",
       "      <th>url</th>\n",
       "      <th>top_img</th>\n",
       "      <th>authors</th>\n",
       "      <th>source</th>\n",
       "      <th>publish_date</th>\n",
       "      <th>movies</th>\n",
       "      <th>images</th>\n",
       "      <th>canonical_link</th>\n",
       "      <th>meta_data</th>\n",
       "    </tr>\n",
       "  </thead>\n",
       "  <tbody>\n",
       "    <tr>\n",
       "      <th>0</th>\n",
       "      <td>Real_1-Webpage</td>\n",
       "      <td>Another Terrorist Attack in NYC…Why Are we STI...</td>\n",
       "      <td>On Saturday, September 17 at 8:30 pm EST, an e...</td>\n",
       "      <td>http://eaglerising.com/36942/another-terrorist...</td>\n",
       "      <td>http://eaglerising.com/wp-content/uploads/2016...</td>\n",
       "      <td>View All Posts,Leonora Cravotta</td>\n",
       "      <td>http://eaglerising.com</td>\n",
       "      <td>{'$date': 1474528230000}</td>\n",
       "      <td>NaN</td>\n",
       "      <td>http://constitution.com/wp-content/uploads/201...</td>\n",
       "      <td>http://eaglerising.com/36942/another-terrorist...</td>\n",
       "      <td>{\"description\": \"\\u201cWe believe at this poin...</td>\n",
       "    </tr>\n",
       "    <tr>\n",
       "      <th>1</th>\n",
       "      <td>Real_10-Webpage</td>\n",
       "      <td>Donald Trump: Drugs a 'Very, Very Big Factor' ...</td>\n",
       "      <td>Less than a day after protests over the police...</td>\n",
       "      <td>http://abcn.ws/2d4lNn9</td>\n",
       "      <td>http://a.abcnews.com/images/Politics/AP_donald...</td>\n",
       "      <td>More Candace,Adam Kelsey,Abc News,More Adam</td>\n",
       "      <td>http://abcn.ws</td>\n",
       "      <td>NaN</td>\n",
       "      <td>NaN</td>\n",
       "      <td>http://www.googleadservices.com/pagead/convers...</td>\n",
       "      <td>http://abcnews.go.com/Politics/donald-trump-dr...</td>\n",
       "      <td>{\"fb_title\": \"Trump: Drugs a 'Very, Very Big F...</td>\n",
       "    </tr>\n",
       "    <tr>\n",
       "      <th>2</th>\n",
       "      <td>Real_11-Webpage</td>\n",
       "      <td>Obama To UN: ‘Giving Up Liberty, Enhances Secu...</td>\n",
       "      <td>Obama To UN: ‘Giving Up Liberty, Enhances Secu...</td>\n",
       "      <td>http://rightwingnews.com/barack-obama/obama-un...</td>\n",
       "      <td>http://rightwingnews.com/wp-content/uploads/20...</td>\n",
       "      <td>Cassy Fiano</td>\n",
       "      <td>http://rightwingnews.com</td>\n",
       "      <td>{'$date': 1474476044000}</td>\n",
       "      <td>https://www.youtube.com/embed/ji6pl5Vwrvk</td>\n",
       "      <td>http://rightwingnews.com/wp-content/uploads/20...</td>\n",
       "      <td>http://rightwingnews.com/barack-obama/obama-un...</td>\n",
       "      <td>{\"googlebot\": \"noimageindex\", \"og\": {\"site_nam...</td>\n",
       "    </tr>\n",
       "    <tr>\n",
       "      <th>3</th>\n",
       "      <td>Real_12-Webpage</td>\n",
       "      <td>Trump vs. Clinton: A Fundamental Clash over Ho...</td>\n",
       "      <td>Getty Images Wealth Of Nations Trump vs. Clint...</td>\n",
       "      <td>http://politi.co/2de2qs0</td>\n",
       "      <td>http://static.politico.com/e9/11/6144cdc24e319...</td>\n",
       "      <td>Jack Shafer,Erick Trickey,Zachary Karabell</td>\n",
       "      <td>http://politi.co</td>\n",
       "      <td>{'$date': 1474974420000}</td>\n",
       "      <td>NaN</td>\n",
       "      <td>https://static.politico.com/dims4/default/8a1c...</td>\n",
       "      <td>http://www.politico.com/magazine/story/2016/09...</td>\n",
       "      <td>{\"description\": \"He sees it as zero-sum. She b...</td>\n",
       "    </tr>\n",
       "    <tr>\n",
       "      <th>4</th>\n",
       "      <td>Real_13-Webpage</td>\n",
       "      <td>President Obama Vetoes 9/11 Victims Bill, Sett...</td>\n",
       "      <td>President Obama today vetoed a bill that would...</td>\n",
       "      <td>http://abcn.ws/2dh2NFs</td>\n",
       "      <td>http://a.abcnews.com/images/US/AP_Obama_BM_201...</td>\n",
       "      <td>John Parkinson,More John,Abc News,More Alexander</td>\n",
       "      <td>http://abcn.ws</td>\n",
       "      <td>NaN</td>\n",
       "      <td>NaN</td>\n",
       "      <td>http://www.googleadservices.com/pagead/convers...</td>\n",
       "      <td>http://abcnews.go.com/Politics/president-obama...</td>\n",
       "      <td>{\"fb_title\": \"President Obama Vetoes 9/11 Vict...</td>\n",
       "    </tr>\n",
       "  </tbody>\n",
       "</table>\n",
       "</div>"
      ],
      "text/plain": [
       "                id                                              title  \\\n",
       "0   Real_1-Webpage  Another Terrorist Attack in NYC…Why Are we STI...   \n",
       "1  Real_10-Webpage  Donald Trump: Drugs a 'Very, Very Big Factor' ...   \n",
       "2  Real_11-Webpage  Obama To UN: ‘Giving Up Liberty, Enhances Secu...   \n",
       "3  Real_12-Webpage  Trump vs. Clinton: A Fundamental Clash over Ho...   \n",
       "4  Real_13-Webpage  President Obama Vetoes 9/11 Victims Bill, Sett...   \n",
       "\n",
       "                                                text  \\\n",
       "0  On Saturday, September 17 at 8:30 pm EST, an e...   \n",
       "1  Less than a day after protests over the police...   \n",
       "2  Obama To UN: ‘Giving Up Liberty, Enhances Secu...   \n",
       "3  Getty Images Wealth Of Nations Trump vs. Clint...   \n",
       "4  President Obama today vetoed a bill that would...   \n",
       "\n",
       "                                                 url  \\\n",
       "0  http://eaglerising.com/36942/another-terrorist...   \n",
       "1                             http://abcn.ws/2d4lNn9   \n",
       "2  http://rightwingnews.com/barack-obama/obama-un...   \n",
       "3                           http://politi.co/2de2qs0   \n",
       "4                             http://abcn.ws/2dh2NFs   \n",
       "\n",
       "                                             top_img  \\\n",
       "0  http://eaglerising.com/wp-content/uploads/2016...   \n",
       "1  http://a.abcnews.com/images/Politics/AP_donald...   \n",
       "2  http://rightwingnews.com/wp-content/uploads/20...   \n",
       "3  http://static.politico.com/e9/11/6144cdc24e319...   \n",
       "4  http://a.abcnews.com/images/US/AP_Obama_BM_201...   \n",
       "\n",
       "                                            authors                    source  \\\n",
       "0                   View All Posts,Leonora Cravotta    http://eaglerising.com   \n",
       "1       More Candace,Adam Kelsey,Abc News,More Adam            http://abcn.ws   \n",
       "2                                       Cassy Fiano  http://rightwingnews.com   \n",
       "3        Jack Shafer,Erick Trickey,Zachary Karabell          http://politi.co   \n",
       "4  John Parkinson,More John,Abc News,More Alexander            http://abcn.ws   \n",
       "\n",
       "               publish_date                                     movies  \\\n",
       "0  {'$date': 1474528230000}                                        NaN   \n",
       "1                       NaN                                        NaN   \n",
       "2  {'$date': 1474476044000}  https://www.youtube.com/embed/ji6pl5Vwrvk   \n",
       "3  {'$date': 1474974420000}                                        NaN   \n",
       "4                       NaN                                        NaN   \n",
       "\n",
       "                                              images  \\\n",
       "0  http://constitution.com/wp-content/uploads/201...   \n",
       "1  http://www.googleadservices.com/pagead/convers...   \n",
       "2  http://rightwingnews.com/wp-content/uploads/20...   \n",
       "3  https://static.politico.com/dims4/default/8a1c...   \n",
       "4  http://www.googleadservices.com/pagead/convers...   \n",
       "\n",
       "                                      canonical_link  \\\n",
       "0  http://eaglerising.com/36942/another-terrorist...   \n",
       "1  http://abcnews.go.com/Politics/donald-trump-dr...   \n",
       "2  http://rightwingnews.com/barack-obama/obama-un...   \n",
       "3  http://www.politico.com/magazine/story/2016/09...   \n",
       "4  http://abcnews.go.com/Politics/president-obama...   \n",
       "\n",
       "                                           meta_data  \n",
       "0  {\"description\": \"\\u201cWe believe at this poin...  \n",
       "1  {\"fb_title\": \"Trump: Drugs a 'Very, Very Big F...  \n",
       "2  {\"googlebot\": \"noimageindex\", \"og\": {\"site_nam...  \n",
       "3  {\"description\": \"He sees it as zero-sum. She b...  \n",
       "4  {\"fb_title\": \"President Obama Vetoes 9/11 Vict...  "
      ]
     },
     "execution_count": 9,
     "metadata": {},
     "output_type": "execute_result"
    }
   ],
   "source": [
    "dff.head()"
   ]
  },
  {
   "cell_type": "code",
   "execution_count": 10,
   "metadata": {},
   "outputs": [],
   "source": [
    "dff['label'] = 'real'"
   ]
  },
  {
   "cell_type": "code",
   "execution_count": 11,
   "metadata": {},
   "outputs": [],
   "source": [
    "dff = dff[['title', 'text', 'url', 'authors', 'source', 'meta_data', 'label']]"
   ]
  },
  {
   "cell_type": "code",
   "execution_count": 12,
   "metadata": {},
   "outputs": [
    {
     "data": {
      "text/plain": [
       "(91, 7)"
      ]
     },
     "execution_count": 12,
     "metadata": {},
     "output_type": "execute_result"
    }
   ],
   "source": [
    "df.shape"
   ]
  },
  {
   "cell_type": "code",
   "execution_count": 13,
   "metadata": {},
   "outputs": [
    {
     "data": {
      "text/plain": [
       "(91, 7)"
      ]
     },
     "execution_count": 13,
     "metadata": {},
     "output_type": "execute_result"
    }
   ],
   "source": [
    "dff.shape"
   ]
  },
  {
   "cell_type": "code",
   "execution_count": 14,
   "metadata": {},
   "outputs": [],
   "source": [
    "df = pd.concat([df, dff])"
   ]
  },
  {
   "cell_type": "code",
   "execution_count": 15,
   "metadata": {},
   "outputs": [
    {
     "data": {
      "text/plain": [
       "(182, 7)"
      ]
     },
     "execution_count": 15,
     "metadata": {},
     "output_type": "execute_result"
    }
   ],
   "source": [
    "df.shape"
   ]
  },
  {
   "cell_type": "code",
   "execution_count": 16,
   "metadata": {},
   "outputs": [],
   "source": [
    "df = df.sample(frac = 1)"
   ]
  },
  {
   "cell_type": "code",
   "execution_count": 17,
   "metadata": {},
   "outputs": [
    {
     "data": {
      "text/html": [
       "<div>\n",
       "<style scoped>\n",
       "    .dataframe tbody tr th:only-of-type {\n",
       "        vertical-align: middle;\n",
       "    }\n",
       "\n",
       "    .dataframe tbody tr th {\n",
       "        vertical-align: top;\n",
       "    }\n",
       "\n",
       "    .dataframe thead th {\n",
       "        text-align: right;\n",
       "    }\n",
       "</style>\n",
       "<table border=\"1\" class=\"dataframe\">\n",
       "  <thead>\n",
       "    <tr style=\"text-align: right;\">\n",
       "      <th></th>\n",
       "      <th>title</th>\n",
       "      <th>text</th>\n",
       "      <th>url</th>\n",
       "      <th>authors</th>\n",
       "      <th>source</th>\n",
       "      <th>meta_data</th>\n",
       "      <th>label</th>\n",
       "    </tr>\n",
       "  </thead>\n",
       "  <tbody>\n",
       "    <tr>\n",
       "      <th>52</th>\n",
       "      <td>Hillary Thought She Won The Debate. Didn’t Exp...</td>\n",
       "      <td>Oh Hillary, when will you learn? You never cou...</td>\n",
       "      <td>http://www.yesimright.com/hillary-thought-she-...</td>\n",
       "      <td>Blair Patterson</td>\n",
       "      <td>http://www.yesimright.com</td>\n",
       "      <td>{\"description\": \"Oh Hillary, when will you lea...</td>\n",
       "      <td>fake</td>\n",
       "    </tr>\n",
       "    <tr>\n",
       "      <th>66</th>\n",
       "      <td>Clinton Foundation Spent 5.7% on Charity; Rest...</td>\n",
       "      <td>Back when the news first broke about the pay-t...</td>\n",
       "      <td>http://eaglerising.com/36847/clinton-foundatio...</td>\n",
       "      <td>Philip Hodges,View All Posts</td>\n",
       "      <td>http://eaglerising.com</td>\n",
       "      <td>{\"description\": \"The foundation had to at leas...</td>\n",
       "      <td>fake</td>\n",
       "    </tr>\n",
       "    <tr>\n",
       "      <th>46</th>\n",
       "      <td>Trump labels Clinton 'weak and ineffective' in...</td>\n",
       "      <td>Story highlights Donald Trump criticized Hilla...</td>\n",
       "      <td>http://cnn.it/2d6LAP3</td>\n",
       "      <td>Jeremy Diamond</td>\n",
       "      <td>http://cnn.it</td>\n",
       "      <td>{\"description\": \"Donald Trump, speaking two da...</td>\n",
       "      <td>real</td>\n",
       "    </tr>\n",
       "    <tr>\n",
       "      <th>48</th>\n",
       "      <td>Inmate Dead From Alleged Mistreatment In Jail ...</td>\n",
       "      <td>Milwaukee Sheriff David A. Clarke Jr. has been...</td>\n",
       "      <td>http://www.addictinginfo.org/2016/09/20/inmate...</td>\n",
       "      <td>Oliver Willis</td>\n",
       "      <td>http://www.addictinginfo.org</td>\n",
       "      <td>{\"publisher\": \"Addicting Info | The Knowledge ...</td>\n",
       "      <td>real</td>\n",
       "    </tr>\n",
       "    <tr>\n",
       "      <th>4</th>\n",
       "      <td>President Obama Vetoes 9/11 Victims Bill, Sett...</td>\n",
       "      <td>President Obama today vetoed a bill that would...</td>\n",
       "      <td>http://abcn.ws/2dh2NFs</td>\n",
       "      <td>John Parkinson,More John,Abc News,More Alexander</td>\n",
       "      <td>http://abcn.ws</td>\n",
       "      <td>{\"fb_title\": \"President Obama Vetoes 9/11 Vict...</td>\n",
       "      <td>real</td>\n",
       "    </tr>\n",
       "  </tbody>\n",
       "</table>\n",
       "</div>"
      ],
      "text/plain": [
       "                                                title  \\\n",
       "52  Hillary Thought She Won The Debate. Didn’t Exp...   \n",
       "66  Clinton Foundation Spent 5.7% on Charity; Rest...   \n",
       "46  Trump labels Clinton 'weak and ineffective' in...   \n",
       "48  Inmate Dead From Alleged Mistreatment In Jail ...   \n",
       "4   President Obama Vetoes 9/11 Victims Bill, Sett...   \n",
       "\n",
       "                                                 text  \\\n",
       "52  Oh Hillary, when will you learn? You never cou...   \n",
       "66  Back when the news first broke about the pay-t...   \n",
       "46  Story highlights Donald Trump criticized Hilla...   \n",
       "48  Milwaukee Sheriff David A. Clarke Jr. has been...   \n",
       "4   President Obama today vetoed a bill that would...   \n",
       "\n",
       "                                                  url  \\\n",
       "52  http://www.yesimright.com/hillary-thought-she-...   \n",
       "66  http://eaglerising.com/36847/clinton-foundatio...   \n",
       "46                              http://cnn.it/2d6LAP3   \n",
       "48  http://www.addictinginfo.org/2016/09/20/inmate...   \n",
       "4                              http://abcn.ws/2dh2NFs   \n",
       "\n",
       "                                             authors  \\\n",
       "52                                   Blair Patterson   \n",
       "66                      Philip Hodges,View All Posts   \n",
       "46                                    Jeremy Diamond   \n",
       "48                                     Oliver Willis   \n",
       "4   John Parkinson,More John,Abc News,More Alexander   \n",
       "\n",
       "                          source  \\\n",
       "52     http://www.yesimright.com   \n",
       "66        http://eaglerising.com   \n",
       "46                 http://cnn.it   \n",
       "48  http://www.addictinginfo.org   \n",
       "4                 http://abcn.ws   \n",
       "\n",
       "                                            meta_data label  \n",
       "52  {\"description\": \"Oh Hillary, when will you lea...  fake  \n",
       "66  {\"description\": \"The foundation had to at leas...  fake  \n",
       "46  {\"description\": \"Donald Trump, speaking two da...  real  \n",
       "48  {\"publisher\": \"Addicting Info | The Knowledge ...  real  \n",
       "4   {\"fb_title\": \"President Obama Vetoes 9/11 Vict...  real  "
      ]
     },
     "execution_count": 17,
     "metadata": {},
     "output_type": "execute_result"
    }
   ],
   "source": [
    "df.head()"
   ]
  },
  {
   "cell_type": "code",
   "execution_count": 18,
   "metadata": {},
   "outputs": [
    {
     "data": {
      "text/plain": [
       "Index(['title', 'text', 'url', 'authors', 'source', 'meta_data', 'label'], dtype='object')"
      ]
     },
     "execution_count": 18,
     "metadata": {},
     "output_type": "execute_result"
    }
   ],
   "source": [
    "df.columns"
   ]
  },
  {
   "cell_type": "code",
   "execution_count": 19,
   "metadata": {},
   "outputs": [],
   "source": [
    "from nltk.tokenize import WordPunctTokenizer\n",
    "from bs4 import BeautifulSoup\n",
    "import re\n",
    "tok = WordPunctTokenizer()\n",
    "pat1 = r'@[A-Za-z0-9]+'\n",
    "pat2 = r'https?://[A-Za-z0-9./]+'\n",
    "combined_pat = r'|'.join((pat1, pat2))\n",
    "\n",
    "def tweet_cleaner(text):\n",
    "    soup = BeautifulSoup(text, 'lxml')\n",
    "    souped = soup.get_text()\n",
    "    stripped = re.sub(combined_pat, '', souped)\n",
    "    try:\n",
    "        clean = stripped.decode(\"utf-8-sig\").replace(u\"\\ufffd\", \"?\")\n",
    "    except:\n",
    "        clean = stripped\n",
    "    letters_only = re.sub(\"[^a-zA-Z]\", \" \", clean)\n",
    "    lower_case = letters_only.lower()\n",
    "    # During the letters_only process two lines above, it has created unnecessay white spaces,\n",
    "    # I will tokenize and join together to remove unneccessary white spaces\n",
    "    words = tok.tokenize(lower_case)\n",
    "    return (\" \".join(words)).strip()"
   ]
  },
  {
   "cell_type": "code",
   "execution_count": 20,
   "metadata": {},
   "outputs": [
    {
     "data": {
      "text/plain": [
       "Index(['title', 'text', 'url', 'authors', 'source', 'meta_data', 'label'], dtype='object')"
      ]
     },
     "execution_count": 20,
     "metadata": {},
     "output_type": "execute_result"
    }
   ],
   "source": [
    "df.columns"
   ]
  },
  {
   "cell_type": "code",
   "execution_count": 21,
   "metadata": {},
   "outputs": [],
   "source": [
    "df['title'] = df['title'].apply(tweet_cleaner)\n",
    "df['text'] = df['text'].apply(tweet_cleaner)\n",
    "df['meta_data'] = df['meta_data'].apply(tweet_cleaner)"
   ]
  },
  {
   "cell_type": "code",
   "execution_count": 22,
   "metadata": {},
   "outputs": [],
   "source": [
    "def all_X(row):\n",
    "    try:\n",
    "        return row['title']+\" \"+row[\"text\"]+\" \"+row[\"meta_data\"]\n",
    "    except: print(\"error\", row)\n",
    "        #giving out the error fields.\n",
    "        \n",
    "        \n",
    "df[\"all_X\"]= df.apply(all_X,axis=1)"
   ]
  },
  {
   "cell_type": "code",
   "execution_count": 23,
   "metadata": {},
   "outputs": [],
   "source": [
    "df = df[['all_X', 'label']]"
   ]
  },
  {
   "cell_type": "code",
   "execution_count": 24,
   "metadata": {},
   "outputs": [
    {
     "data": {
      "text/plain": [
       "Index(['all_X', 'label'], dtype='object')"
      ]
     },
     "execution_count": 24,
     "metadata": {},
     "output_type": "execute_result"
    }
   ],
   "source": [
    "df.columns"
   ]
  },
  {
   "cell_type": "code",
   "execution_count": 25,
   "metadata": {},
   "outputs": [],
   "source": [
    "#Assign text to X variable and labels to y\n",
    "\n",
    "X = df.all_X\n",
    "y = df.label"
   ]
  },
  {
   "cell_type": "code",
   "execution_count": 26,
   "metadata": {},
   "outputs": [],
   "source": [
    "#Intialize Count Vectorizer\n",
    "count_vec = CountVectorizer(lowercase=True, stop_words=\"english\", ngram_range=(1,2),\n",
    "                           min_df = 3)\n",
    "#Fit Count Vectorizer\n",
    "dtm_cv = count_vec.fit_transform(X)\n",
    "#Convert it to a pandas data frame\n",
    "df_cv = pd.DataFrame(dtm_cv.toarray(), columns=count_vec.get_feature_names())"
   ]
  },
  {
   "cell_type": "code",
   "execution_count": 27,
   "metadata": {},
   "outputs": [
    {
     "data": {
      "text/html": [
       "<div>\n",
       "<style scoped>\n",
       "    .dataframe tbody tr th:only-of-type {\n",
       "        vertical-align: middle;\n",
       "    }\n",
       "\n",
       "    .dataframe tbody tr th {\n",
       "        vertical-align: top;\n",
       "    }\n",
       "\n",
       "    .dataframe thead th {\n",
       "        text-align: right;\n",
       "    }\n",
       "</style>\n",
       "<table border=\"1\" class=\"dataframe\">\n",
       "  <thead>\n",
       "    <tr style=\"text-align: right;\">\n",
       "      <th></th>\n",
       "      <th>abandon</th>\n",
       "      <th>abandoned</th>\n",
       "      <th>abc</th>\n",
       "      <th>abc abcnews</th>\n",
       "      <th>abc news</th>\n",
       "      <th>abcnews</th>\n",
       "      <th>abcnews abcnews</th>\n",
       "      <th>abcnews card</th>\n",
       "      <th>abcnews com</th>\n",
       "      <th>abcnews iphone</th>\n",
       "      <th>...</th>\n",
       "      <th>young</th>\n",
       "      <th>young adults</th>\n",
       "      <th>younger</th>\n",
       "      <th>zde</th>\n",
       "      <th>zde rd</th>\n",
       "      <th>zero</th>\n",
       "      <th>zuthf</th>\n",
       "      <th>zuthf dco</th>\n",
       "      <th>zyx</th>\n",
       "      <th>zyx bqy</th>\n",
       "    </tr>\n",
       "  </thead>\n",
       "  <tbody>\n",
       "    <tr>\n",
       "      <th>0</th>\n",
       "      <td>0</td>\n",
       "      <td>0</td>\n",
       "      <td>0</td>\n",
       "      <td>0</td>\n",
       "      <td>0</td>\n",
       "      <td>0</td>\n",
       "      <td>0</td>\n",
       "      <td>0</td>\n",
       "      <td>0</td>\n",
       "      <td>0</td>\n",
       "      <td>...</td>\n",
       "      <td>0</td>\n",
       "      <td>0</td>\n",
       "      <td>0</td>\n",
       "      <td>0</td>\n",
       "      <td>0</td>\n",
       "      <td>0</td>\n",
       "      <td>0</td>\n",
       "      <td>0</td>\n",
       "      <td>0</td>\n",
       "      <td>0</td>\n",
       "    </tr>\n",
       "    <tr>\n",
       "      <th>1</th>\n",
       "      <td>0</td>\n",
       "      <td>0</td>\n",
       "      <td>0</td>\n",
       "      <td>0</td>\n",
       "      <td>0</td>\n",
       "      <td>0</td>\n",
       "      <td>0</td>\n",
       "      <td>0</td>\n",
       "      <td>0</td>\n",
       "      <td>0</td>\n",
       "      <td>...</td>\n",
       "      <td>0</td>\n",
       "      <td>0</td>\n",
       "      <td>0</td>\n",
       "      <td>0</td>\n",
       "      <td>0</td>\n",
       "      <td>0</td>\n",
       "      <td>0</td>\n",
       "      <td>0</td>\n",
       "      <td>0</td>\n",
       "      <td>0</td>\n",
       "    </tr>\n",
       "    <tr>\n",
       "      <th>2</th>\n",
       "      <td>0</td>\n",
       "      <td>0</td>\n",
       "      <td>0</td>\n",
       "      <td>0</td>\n",
       "      <td>0</td>\n",
       "      <td>0</td>\n",
       "      <td>0</td>\n",
       "      <td>0</td>\n",
       "      <td>0</td>\n",
       "      <td>0</td>\n",
       "      <td>...</td>\n",
       "      <td>0</td>\n",
       "      <td>0</td>\n",
       "      <td>0</td>\n",
       "      <td>0</td>\n",
       "      <td>0</td>\n",
       "      <td>0</td>\n",
       "      <td>0</td>\n",
       "      <td>0</td>\n",
       "      <td>0</td>\n",
       "      <td>0</td>\n",
       "    </tr>\n",
       "    <tr>\n",
       "      <th>3</th>\n",
       "      <td>0</td>\n",
       "      <td>0</td>\n",
       "      <td>0</td>\n",
       "      <td>0</td>\n",
       "      <td>0</td>\n",
       "      <td>0</td>\n",
       "      <td>0</td>\n",
       "      <td>0</td>\n",
       "      <td>0</td>\n",
       "      <td>0</td>\n",
       "      <td>...</td>\n",
       "      <td>0</td>\n",
       "      <td>0</td>\n",
       "      <td>0</td>\n",
       "      <td>0</td>\n",
       "      <td>0</td>\n",
       "      <td>0</td>\n",
       "      <td>1</td>\n",
       "      <td>1</td>\n",
       "      <td>0</td>\n",
       "      <td>0</td>\n",
       "    </tr>\n",
       "    <tr>\n",
       "      <th>4</th>\n",
       "      <td>0</td>\n",
       "      <td>0</td>\n",
       "      <td>13</td>\n",
       "      <td>4</td>\n",
       "      <td>9</td>\n",
       "      <td>8</td>\n",
       "      <td>4</td>\n",
       "      <td>1</td>\n",
       "      <td>2</td>\n",
       "      <td>1</td>\n",
       "      <td>...</td>\n",
       "      <td>0</td>\n",
       "      <td>0</td>\n",
       "      <td>0</td>\n",
       "      <td>0</td>\n",
       "      <td>0</td>\n",
       "      <td>0</td>\n",
       "      <td>0</td>\n",
       "      <td>0</td>\n",
       "      <td>0</td>\n",
       "      <td>0</td>\n",
       "    </tr>\n",
       "  </tbody>\n",
       "</table>\n",
       "<p>5 rows × 4191 columns</p>\n",
       "</div>"
      ],
      "text/plain": [
       "   abandon  abandoned  abc  abc abcnews  abc news  abcnews  abcnews abcnews  \\\n",
       "0        0          0    0            0         0        0                0   \n",
       "1        0          0    0            0         0        0                0   \n",
       "2        0          0    0            0         0        0                0   \n",
       "3        0          0    0            0         0        0                0   \n",
       "4        0          0   13            4         9        8                4   \n",
       "\n",
       "   abcnews card  abcnews com  abcnews iphone  ...  young  young adults  \\\n",
       "0             0            0               0  ...      0             0   \n",
       "1             0            0               0  ...      0             0   \n",
       "2             0            0               0  ...      0             0   \n",
       "3             0            0               0  ...      0             0   \n",
       "4             1            2               1  ...      0             0   \n",
       "\n",
       "   younger  zde  zde rd  zero  zuthf  zuthf dco  zyx  zyx bqy  \n",
       "0        0    0       0     0      0          0    0        0  \n",
       "1        0    0       0     0      0          0    0        0  \n",
       "2        0    0       0     0      0          0    0        0  \n",
       "3        0    0       0     0      1          1    0        0  \n",
       "4        0    0       0     0      0          0    0        0  \n",
       "\n",
       "[5 rows x 4191 columns]"
      ]
     },
     "execution_count": 27,
     "metadata": {},
     "output_type": "execute_result"
    }
   ],
   "source": [
    "df_cv.head()"
   ]
  },
  {
   "cell_type": "code",
   "execution_count": 28,
   "metadata": {},
   "outputs": [
    {
     "data": {
      "text/plain": [
       "(182, 4191)"
      ]
     },
     "execution_count": 28,
     "metadata": {},
     "output_type": "execute_result"
    }
   ],
   "source": [
    "df_cv.shape"
   ]
  },
  {
   "cell_type": "code",
   "execution_count": 29,
   "metadata": {},
   "outputs": [],
   "source": [
    "x_train, x_test, y_train, y_test = train_test_split(df_cv,y,test_size=0.3)"
   ]
  },
  {
   "cell_type": "code",
   "execution_count": 31,
   "metadata": {},
   "outputs": [
    {
     "data": {
      "text/plain": [
       "DecisionTreeClassifier(ccp_alpha=0.0, class_weight=None, criterion='gini',\n",
       "                       max_depth=None, max_features=None, max_leaf_nodes=None,\n",
       "                       min_impurity_decrease=0.0, min_impurity_split=None,\n",
       "                       min_samples_leaf=1, min_samples_split=2,\n",
       "                       min_weight_fraction_leaf=0.0, presort='deprecated',\n",
       "                       random_state=None, splitter='best')"
      ]
     },
     "execution_count": 31,
     "metadata": {},
     "output_type": "execute_result"
    }
   ],
   "source": [
    "#model, here we use decision tree\n",
    "from sklearn.metrics import accuracy_score\n",
    "from sklearn.tree import DecisionTreeClassifier\n",
    "dt=DecisionTreeClassifier()\n",
    "dt.fit(x_train,y_train)"
   ]
  },
  {
   "cell_type": "code",
   "execution_count": 33,
   "metadata": {
    "scrolled": true
   },
   "outputs": [],
   "source": [
    "prediction_dt=dt.predict(x_test)\n",
    "#checking the accuracy\n",
    "accuracy_dt=accuracy_score(y_test,prediction_dt)*100"
   ]
  },
  {
   "cell_type": "code",
   "execution_count": 35,
   "metadata": {},
   "outputs": [
    {
     "data": {
      "text/plain": [
       "78.18181818181819"
      ]
     },
     "execution_count": 35,
     "metadata": {},
     "output_type": "execute_result"
    }
   ],
   "source": [
    "accuracy_dt"
   ]
  },
  {
   "cell_type": "code",
   "execution_count": null,
   "metadata": {},
   "outputs": [],
   "source": []
  },
  {
   "cell_type": "code",
   "execution_count": null,
   "metadata": {},
   "outputs": [],
   "source": []
  },
  {
   "cell_type": "code",
   "execution_count": null,
   "metadata": {},
   "outputs": [],
   "source": []
  }
 ],
 "metadata": {
  "kernelspec": {
   "display_name": "Python 3",
   "language": "python",
   "name": "python3"
  },
  "language_info": {
   "codemirror_mode": {
    "name": "ipython",
    "version": 3
   },
   "file_extension": ".py",
   "mimetype": "text/x-python",
   "name": "python",
   "nbconvert_exporter": "python",
   "pygments_lexer": "ipython3",
   "version": "3.7.6"
  }
 },
 "nbformat": 4,
 "nbformat_minor": 4
}
