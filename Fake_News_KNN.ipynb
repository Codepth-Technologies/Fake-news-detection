{
 "cells": [
  {
   "cell_type": "code",
   "execution_count": 1,
   "metadata": {
    "collapsed": true
   },
   "outputs": [],
   "source": [
    "import pandas as pd\n",
    "from sklearn.feature_extraction.text import CountVectorizer\n",
    "from sklearn.model_selection import GridSearchCV\n",
    "from sklearn.svm import SVC\n",
    "from sklearn.model_selection import train_test_split\n",
    "from sklearn.metrics import classification_report"
   ]
  },
  {
   "cell_type": "code",
   "execution_count": 2,
   "metadata": {
    "collapsed": true
   },
   "outputs": [],
   "source": [
    "df = pd.read_csv(r\"C:\\Users\\KIIT\\Downloads\\bzf.csv\")"
   ]
  },
  {
   "cell_type": "code",
   "execution_count": 3,
   "metadata": {
    "collapsed": true
   },
   "outputs": [],
   "source": [
    "dff = pd.read_csv(r'C:\\Users\\KIIT\\Downloads\\bzr.csv')"
   ]
  },
  {
   "cell_type": "code",
   "execution_count": 4,
   "metadata": {
    "collapsed": false
   },
   "outputs": [
    {
     "data": {
      "text/html": [
       "<div>\n",
       "<style scoped>\n",
       "    .dataframe tbody tr th:only-of-type {\n",
       "        vertical-align: middle;\n",
       "    }\n",
       "\n",
       "    .dataframe tbody tr th {\n",
       "        vertical-align: top;\n",
       "    }\n",
       "\n",
       "    .dataframe thead th {\n",
       "        text-align: right;\n",
       "    }\n",
       "</style>\n",
       "<table border=\"1\" class=\"dataframe\">\n",
       "  <thead>\n",
       "    <tr style=\"text-align: right;\">\n",
       "      <th></th>\n",
       "      <th>id</th>\n",
       "      <th>title</th>\n",
       "      <th>text</th>\n",
       "      <th>url</th>\n",
       "      <th>top_img</th>\n",
       "      <th>authors</th>\n",
       "      <th>source</th>\n",
       "      <th>publish_date</th>\n",
       "      <th>movies</th>\n",
       "      <th>images</th>\n",
       "      <th>canonical_link</th>\n",
       "      <th>meta_data</th>\n",
       "    </tr>\n",
       "  </thead>\n",
       "  <tbody>\n",
       "    <tr>\n",
       "      <th>0</th>\n",
       "      <td>Fake_1-Webpage</td>\n",
       "      <td>Proof The Mainstream Media Is Manipulating The...</td>\n",
       "      <td>I woke up this morning to find a variation of ...</td>\n",
       "      <td>http://www.addictinginfo.org/2016/09/19/proof-...</td>\n",
       "      <td>http://addictinginfo.addictinginfoent.netdna-c...</td>\n",
       "      <td>Wendy Gittleson</td>\n",
       "      <td>http://www.addictinginfo.org</td>\n",
       "      <td>{'$date': 1474243200000}</td>\n",
       "      <td>NaN</td>\n",
       "      <td>http://i.imgur.com/JeqZLhj.png,http://addictin...</td>\n",
       "      <td>http://addictinginfo.com/2016/09/19/proof-the-...</td>\n",
       "      <td>{\"publisher\": \"Addicting Info | The Knowledge ...</td>\n",
       "    </tr>\n",
       "    <tr>\n",
       "      <th>1</th>\n",
       "      <td>Fake_10-Webpage</td>\n",
       "      <td>Charity: Clinton Foundation Distributed “Water...</td>\n",
       "      <td>Former President Bill Clinton and his Clinton ...</td>\n",
       "      <td>http://eaglerising.com/36899/charity-clinton-f...</td>\n",
       "      <td>http://eaglerising.com/wp-content/uploads/2016...</td>\n",
       "      <td>View All Posts</td>\n",
       "      <td>http://eaglerising.com</td>\n",
       "      <td>{'$date': 1474416521000}</td>\n",
       "      <td>NaN</td>\n",
       "      <td>http://constitution.com/wp-content/uploads/201...</td>\n",
       "      <td>http://eaglerising.com/36899/charity-clinton-f...</td>\n",
       "      <td>{\"description\": \"The possibility that CHAI dis...</td>\n",
       "    </tr>\n",
       "    <tr>\n",
       "      <th>2</th>\n",
       "      <td>Fake_11-Webpage</td>\n",
       "      <td>A Hillary Clinton Administration May be Entire...</td>\n",
       "      <td>After collapsing just before trying to step in...</td>\n",
       "      <td>http://eaglerising.com/36880/a-hillary-clinton...</td>\n",
       "      <td>http://eaglerising.com/wp-content/uploads/2016...</td>\n",
       "      <td>View All Posts,Tony Elliott</td>\n",
       "      <td>http://eaglerising.com</td>\n",
       "      <td>{'$date': 1474416638000}</td>\n",
       "      <td>NaN</td>\n",
       "      <td>http://constitution.com/wp-content/uploads/201...</td>\n",
       "      <td>http://eaglerising.com/36880/a-hillary-clinton...</td>\n",
       "      <td>{\"description\": \"Hillary Clinton may be the fi...</td>\n",
       "    </tr>\n",
       "    <tr>\n",
       "      <th>3</th>\n",
       "      <td>Fake_12-Webpage</td>\n",
       "      <td>Trump’s Latest Campaign Promise May Be His Mos...</td>\n",
       "      <td>Donald Trump is, well, deplorable. He’s sugges...</td>\n",
       "      <td>http://www.addictinginfo.org/2016/09/19/trumps...</td>\n",
       "      <td>http://addictinginfo.addictinginfoent.netdna-c...</td>\n",
       "      <td>John Prager</td>\n",
       "      <td>http://www.addictinginfo.org</td>\n",
       "      <td>{'$date': 1474243200000}</td>\n",
       "      <td>NaN</td>\n",
       "      <td>http://i.imgur.com/JeqZLhj.png,http://2.gravat...</td>\n",
       "      <td>http://addictinginfo.com/2016/09/19/trumps-lat...</td>\n",
       "      <td>{\"publisher\": \"Addicting Info | The Knowledge ...</td>\n",
       "    </tr>\n",
       "    <tr>\n",
       "      <th>4</th>\n",
       "      <td>Fake_13-Webpage</td>\n",
       "      <td>Website is Down For Maintenance</td>\n",
       "      <td>Website is Down For Maintenance</td>\n",
       "      <td>http://www.proudcons.com/clinton-foundation-ca...</td>\n",
       "      <td>NaN</td>\n",
       "      <td>NaN</td>\n",
       "      <td>http://www.proudcons.com</td>\n",
       "      <td>NaN</td>\n",
       "      <td>NaN</td>\n",
       "      <td>NaN</td>\n",
       "      <td>NaN</td>\n",
       "      <td>{\"og\": {\"url\": \"http://www.proudcons.com\", \"ty...</td>\n",
       "    </tr>\n",
       "  </tbody>\n",
       "</table>\n",
       "</div>"
      ],
      "text/plain": [
       "                id                                              title  \\\n",
       "0   Fake_1-Webpage  Proof The Mainstream Media Is Manipulating The...   \n",
       "1  Fake_10-Webpage  Charity: Clinton Foundation Distributed “Water...   \n",
       "2  Fake_11-Webpage  A Hillary Clinton Administration May be Entire...   \n",
       "3  Fake_12-Webpage  Trump’s Latest Campaign Promise May Be His Mos...   \n",
       "4  Fake_13-Webpage                    Website is Down For Maintenance   \n",
       "\n",
       "                                                text  \\\n",
       "0  I woke up this morning to find a variation of ...   \n",
       "1  Former President Bill Clinton and his Clinton ...   \n",
       "2  After collapsing just before trying to step in...   \n",
       "3  Donald Trump is, well, deplorable. He’s sugges...   \n",
       "4                    Website is Down For Maintenance   \n",
       "\n",
       "                                                 url  \\\n",
       "0  http://www.addictinginfo.org/2016/09/19/proof-...   \n",
       "1  http://eaglerising.com/36899/charity-clinton-f...   \n",
       "2  http://eaglerising.com/36880/a-hillary-clinton...   \n",
       "3  http://www.addictinginfo.org/2016/09/19/trumps...   \n",
       "4  http://www.proudcons.com/clinton-foundation-ca...   \n",
       "\n",
       "                                             top_img  \\\n",
       "0  http://addictinginfo.addictinginfoent.netdna-c...   \n",
       "1  http://eaglerising.com/wp-content/uploads/2016...   \n",
       "2  http://eaglerising.com/wp-content/uploads/2016...   \n",
       "3  http://addictinginfo.addictinginfoent.netdna-c...   \n",
       "4                                                NaN   \n",
       "\n",
       "                       authors                        source  \\\n",
       "0              Wendy Gittleson  http://www.addictinginfo.org   \n",
       "1               View All Posts        http://eaglerising.com   \n",
       "2  View All Posts,Tony Elliott        http://eaglerising.com   \n",
       "3                  John Prager  http://www.addictinginfo.org   \n",
       "4                          NaN      http://www.proudcons.com   \n",
       "\n",
       "               publish_date movies  \\\n",
       "0  {'$date': 1474243200000}    NaN   \n",
       "1  {'$date': 1474416521000}    NaN   \n",
       "2  {'$date': 1474416638000}    NaN   \n",
       "3  {'$date': 1474243200000}    NaN   \n",
       "4                       NaN    NaN   \n",
       "\n",
       "                                              images  \\\n",
       "0  http://i.imgur.com/JeqZLhj.png,http://addictin...   \n",
       "1  http://constitution.com/wp-content/uploads/201...   \n",
       "2  http://constitution.com/wp-content/uploads/201...   \n",
       "3  http://i.imgur.com/JeqZLhj.png,http://2.gravat...   \n",
       "4                                                NaN   \n",
       "\n",
       "                                      canonical_link  \\\n",
       "0  http://addictinginfo.com/2016/09/19/proof-the-...   \n",
       "1  http://eaglerising.com/36899/charity-clinton-f...   \n",
       "2  http://eaglerising.com/36880/a-hillary-clinton...   \n",
       "3  http://addictinginfo.com/2016/09/19/trumps-lat...   \n",
       "4                                                NaN   \n",
       "\n",
       "                                           meta_data  \n",
       "0  {\"publisher\": \"Addicting Info | The Knowledge ...  \n",
       "1  {\"description\": \"The possibility that CHAI dis...  \n",
       "2  {\"description\": \"Hillary Clinton may be the fi...  \n",
       "3  {\"publisher\": \"Addicting Info | The Knowledge ...  \n",
       "4  {\"og\": {\"url\": \"http://www.proudcons.com\", \"ty...  "
      ]
     },
     "execution_count": 4,
     "metadata": {},
     "output_type": "execute_result"
    }
   ],
   "source": [
    "df.head()"
   ]
  },
  {
   "cell_type": "code",
   "execution_count": 5,
   "metadata": {
    "collapsed": true
   },
   "outputs": [],
   "source": [
    "df['label'] = 'fake'"
   ]
  },
  {
   "cell_type": "code",
   "execution_count": 6,
   "metadata": {
    "collapsed": true
   },
   "outputs": [],
   "source": [
    "df = df[['title', 'text', 'url', 'authors', 'source', 'meta_data', 'label']]"
   ]
  },
  {
   "cell_type": "code",
   "execution_count": 7,
   "metadata": {
    "collapsed": false
   },
   "outputs": [
    {
     "data": {
      "text/html": [
       "<div>\n",
       "<style scoped>\n",
       "    .dataframe tbody tr th:only-of-type {\n",
       "        vertical-align: middle;\n",
       "    }\n",
       "\n",
       "    .dataframe tbody tr th {\n",
       "        vertical-align: top;\n",
       "    }\n",
       "\n",
       "    .dataframe thead th {\n",
       "        text-align: right;\n",
       "    }\n",
       "</style>\n",
       "<table border=\"1\" class=\"dataframe\">\n",
       "  <thead>\n",
       "    <tr style=\"text-align: right;\">\n",
       "      <th></th>\n",
       "      <th>title</th>\n",
       "      <th>text</th>\n",
       "      <th>url</th>\n",
       "      <th>authors</th>\n",
       "      <th>source</th>\n",
       "      <th>meta_data</th>\n",
       "      <th>label</th>\n",
       "    </tr>\n",
       "  </thead>\n",
       "  <tbody>\n",
       "    <tr>\n",
       "      <th>0</th>\n",
       "      <td>Proof The Mainstream Media Is Manipulating The...</td>\n",
       "      <td>I woke up this morning to find a variation of ...</td>\n",
       "      <td>http://www.addictinginfo.org/2016/09/19/proof-...</td>\n",
       "      <td>Wendy Gittleson</td>\n",
       "      <td>http://www.addictinginfo.org</td>\n",
       "      <td>{\"publisher\": \"Addicting Info | The Knowledge ...</td>\n",
       "      <td>fake</td>\n",
       "    </tr>\n",
       "    <tr>\n",
       "      <th>1</th>\n",
       "      <td>Charity: Clinton Foundation Distributed “Water...</td>\n",
       "      <td>Former President Bill Clinton and his Clinton ...</td>\n",
       "      <td>http://eaglerising.com/36899/charity-clinton-f...</td>\n",
       "      <td>View All Posts</td>\n",
       "      <td>http://eaglerising.com</td>\n",
       "      <td>{\"description\": \"The possibility that CHAI dis...</td>\n",
       "      <td>fake</td>\n",
       "    </tr>\n",
       "    <tr>\n",
       "      <th>2</th>\n",
       "      <td>A Hillary Clinton Administration May be Entire...</td>\n",
       "      <td>After collapsing just before trying to step in...</td>\n",
       "      <td>http://eaglerising.com/36880/a-hillary-clinton...</td>\n",
       "      <td>View All Posts,Tony Elliott</td>\n",
       "      <td>http://eaglerising.com</td>\n",
       "      <td>{\"description\": \"Hillary Clinton may be the fi...</td>\n",
       "      <td>fake</td>\n",
       "    </tr>\n",
       "    <tr>\n",
       "      <th>3</th>\n",
       "      <td>Trump’s Latest Campaign Promise May Be His Mos...</td>\n",
       "      <td>Donald Trump is, well, deplorable. He’s sugges...</td>\n",
       "      <td>http://www.addictinginfo.org/2016/09/19/trumps...</td>\n",
       "      <td>John Prager</td>\n",
       "      <td>http://www.addictinginfo.org</td>\n",
       "      <td>{\"publisher\": \"Addicting Info | The Knowledge ...</td>\n",
       "      <td>fake</td>\n",
       "    </tr>\n",
       "    <tr>\n",
       "      <th>4</th>\n",
       "      <td>Website is Down For Maintenance</td>\n",
       "      <td>Website is Down For Maintenance</td>\n",
       "      <td>http://www.proudcons.com/clinton-foundation-ca...</td>\n",
       "      <td>NaN</td>\n",
       "      <td>http://www.proudcons.com</td>\n",
       "      <td>{\"og\": {\"url\": \"http://www.proudcons.com\", \"ty...</td>\n",
       "      <td>fake</td>\n",
       "    </tr>\n",
       "  </tbody>\n",
       "</table>\n",
       "</div>"
      ],
      "text/plain": [
       "                                               title  \\\n",
       "0  Proof The Mainstream Media Is Manipulating The...   \n",
       "1  Charity: Clinton Foundation Distributed “Water...   \n",
       "2  A Hillary Clinton Administration May be Entire...   \n",
       "3  Trump’s Latest Campaign Promise May Be His Mos...   \n",
       "4                    Website is Down For Maintenance   \n",
       "\n",
       "                                                text  \\\n",
       "0  I woke up this morning to find a variation of ...   \n",
       "1  Former President Bill Clinton and his Clinton ...   \n",
       "2  After collapsing just before trying to step in...   \n",
       "3  Donald Trump is, well, deplorable. He’s sugges...   \n",
       "4                    Website is Down For Maintenance   \n",
       "\n",
       "                                                 url  \\\n",
       "0  http://www.addictinginfo.org/2016/09/19/proof-...   \n",
       "1  http://eaglerising.com/36899/charity-clinton-f...   \n",
       "2  http://eaglerising.com/36880/a-hillary-clinton...   \n",
       "3  http://www.addictinginfo.org/2016/09/19/trumps...   \n",
       "4  http://www.proudcons.com/clinton-foundation-ca...   \n",
       "\n",
       "                       authors                        source  \\\n",
       "0              Wendy Gittleson  http://www.addictinginfo.org   \n",
       "1               View All Posts        http://eaglerising.com   \n",
       "2  View All Posts,Tony Elliott        http://eaglerising.com   \n",
       "3                  John Prager  http://www.addictinginfo.org   \n",
       "4                          NaN      http://www.proudcons.com   \n",
       "\n",
       "                                           meta_data label  \n",
       "0  {\"publisher\": \"Addicting Info | The Knowledge ...  fake  \n",
       "1  {\"description\": \"The possibility that CHAI dis...  fake  \n",
       "2  {\"description\": \"Hillary Clinton may be the fi...  fake  \n",
       "3  {\"publisher\": \"Addicting Info | The Knowledge ...  fake  \n",
       "4  {\"og\": {\"url\": \"http://www.proudcons.com\", \"ty...  fake  "
      ]
     },
     "execution_count": 7,
     "metadata": {},
     "output_type": "execute_result"
    }
   ],
   "source": [
    "df.head()"
   ]
  },
  {
   "cell_type": "code",
   "execution_count": 8,
   "metadata": {
    "collapsed": true
   },
   "outputs": [],
   "source": [
    "dff['label'] = 'real'"
   ]
  },
  {
   "cell_type": "code",
   "execution_count": 9,
   "metadata": {
    "collapsed": true
   },
   "outputs": [],
   "source": [
    "dff = dff[['title', 'text', 'url', 'authors', 'source', 'meta_data', 'label']]"
   ]
  },
  {
   "cell_type": "code",
   "execution_count": 10,
   "metadata": {
    "collapsed": true
   },
   "outputs": [],
   "source": [
    "df = pd.concat([df, dff])"
   ]
  },
  {
   "cell_type": "code",
   "execution_count": 11,
   "metadata": {
    "collapsed": false
   },
   "outputs": [
    {
     "data": {
      "text/plain": [
       "(182, 7)"
      ]
     },
     "execution_count": 11,
     "metadata": {},
     "output_type": "execute_result"
    }
   ],
   "source": [
    "df.shape"
   ]
  },
  {
   "cell_type": "code",
   "execution_count": 12,
   "metadata": {
    "collapsed": true
   },
   "outputs": [],
   "source": [
    "df = df.sample(frac = 1)"
   ]
  },
  {
   "cell_type": "code",
   "execution_count": 13,
   "metadata": {
    "collapsed": false
   },
   "outputs": [
    {
     "data": {
      "text/html": [
       "<div>\n",
       "<style scoped>\n",
       "    .dataframe tbody tr th:only-of-type {\n",
       "        vertical-align: middle;\n",
       "    }\n",
       "\n",
       "    .dataframe tbody tr th {\n",
       "        vertical-align: top;\n",
       "    }\n",
       "\n",
       "    .dataframe thead th {\n",
       "        text-align: right;\n",
       "    }\n",
       "</style>\n",
       "<table border=\"1\" class=\"dataframe\">\n",
       "  <thead>\n",
       "    <tr style=\"text-align: right;\">\n",
       "      <th></th>\n",
       "      <th>title</th>\n",
       "      <th>text</th>\n",
       "      <th>url</th>\n",
       "      <th>authors</th>\n",
       "      <th>source</th>\n",
       "      <th>meta_data</th>\n",
       "      <th>label</th>\n",
       "    </tr>\n",
       "  </thead>\n",
       "  <tbody>\n",
       "    <tr>\n",
       "      <th>42</th>\n",
       "      <td>Tebow DISMANTLES national anthem protests in o...</td>\n",
       "      <td>20.1k SHARES Facebook Twitter\\n\\nWhat do Tim T...</td>\n",
       "      <td>http://freedomdaily.com/tebow-dismantles-natio...</td>\n",
       "      <td>NaN</td>\n",
       "      <td>http://freedomdaily.com</td>\n",
       "      <td>{\"googlebot\": \"noimageindex\", \"generator\": \"Po...</td>\n",
       "      <td>fake</td>\n",
       "    </tr>\n",
       "    <tr>\n",
       "      <th>52</th>\n",
       "      <td>Paul Ryan ducks on stop-and-frisk</td>\n",
       "      <td>Story highlights Ryan called for calm in Charl...</td>\n",
       "      <td>http://cnn.it/2de7kZ4</td>\n",
       "      <td>Deirdre Walsh,Cnn Senior Congressional Producer</td>\n",
       "      <td>http://cnn.it</td>\n",
       "      <td>{\"description\": \"House Speaker Paul Ryan ducke...</td>\n",
       "      <td>real</td>\n",
       "    </tr>\n",
       "    <tr>\n",
       "      <th>26</th>\n",
       "      <td>Fast Food CEO Threatens To Fire Everyone If A ...</td>\n",
       "      <td>For decades, employers have been holding Ameri...</td>\n",
       "      <td>http://author.groopspeak.com/fast-food-ceo-thr...</td>\n",
       "      <td>NaN</td>\n",
       "      <td>http://author.groopspeak.com</td>\n",
       "      <td>{\"publisher\": \"Groopspeak\", \"description\": \"Th...</td>\n",
       "      <td>fake</td>\n",
       "    </tr>\n",
       "    <tr>\n",
       "      <th>0</th>\n",
       "      <td>Another Terrorist Attack in NYC…Why Are we STI...</td>\n",
       "      <td>On Saturday, September 17 at 8:30 pm EST, an e...</td>\n",
       "      <td>http://eaglerising.com/36942/another-terrorist...</td>\n",
       "      <td>View All Posts,Leonora Cravotta</td>\n",
       "      <td>http://eaglerising.com</td>\n",
       "      <td>{\"description\": \"\\u201cWe believe at this poin...</td>\n",
       "      <td>real</td>\n",
       "    </tr>\n",
       "    <tr>\n",
       "      <th>68</th>\n",
       "      <td>Bill And Hillary Clinton Have A MAJOR AIDS Sca...</td>\n",
       "      <td>Over the past several months, the American pub...</td>\n",
       "      <td>http://www.thepoliticalinsider.com/clinton-aid...</td>\n",
       "      <td>NaN</td>\n",
       "      <td>http://www.thepoliticalinsider.com</td>\n",
       "      <td>{\"description\": \"This changes EVERYTHING!\", \"o...</td>\n",
       "      <td>fake</td>\n",
       "    </tr>\n",
       "  </tbody>\n",
       "</table>\n",
       "</div>"
      ],
      "text/plain": [
       "                                                title  \\\n",
       "42  Tebow DISMANTLES national anthem protests in o...   \n",
       "52                  Paul Ryan ducks on stop-and-frisk   \n",
       "26  Fast Food CEO Threatens To Fire Everyone If A ...   \n",
       "0   Another Terrorist Attack in NYC…Why Are we STI...   \n",
       "68  Bill And Hillary Clinton Have A MAJOR AIDS Sca...   \n",
       "\n",
       "                                                 text  \\\n",
       "42  20.1k SHARES Facebook Twitter\\n\\nWhat do Tim T...   \n",
       "52  Story highlights Ryan called for calm in Charl...   \n",
       "26  For decades, employers have been holding Ameri...   \n",
       "0   On Saturday, September 17 at 8:30 pm EST, an e...   \n",
       "68  Over the past several months, the American pub...   \n",
       "\n",
       "                                                  url  \\\n",
       "42  http://freedomdaily.com/tebow-dismantles-natio...   \n",
       "52                              http://cnn.it/2de7kZ4   \n",
       "26  http://author.groopspeak.com/fast-food-ceo-thr...   \n",
       "0   http://eaglerising.com/36942/another-terrorist...   \n",
       "68  http://www.thepoliticalinsider.com/clinton-aid...   \n",
       "\n",
       "                                            authors  \\\n",
       "42                                              NaN   \n",
       "52  Deirdre Walsh,Cnn Senior Congressional Producer   \n",
       "26                                              NaN   \n",
       "0                   View All Posts,Leonora Cravotta   \n",
       "68                                              NaN   \n",
       "\n",
       "                                source  \\\n",
       "42             http://freedomdaily.com   \n",
       "52                       http://cnn.it   \n",
       "26        http://author.groopspeak.com   \n",
       "0               http://eaglerising.com   \n",
       "68  http://www.thepoliticalinsider.com   \n",
       "\n",
       "                                            meta_data label  \n",
       "42  {\"googlebot\": \"noimageindex\", \"generator\": \"Po...  fake  \n",
       "52  {\"description\": \"House Speaker Paul Ryan ducke...  real  \n",
       "26  {\"publisher\": \"Groopspeak\", \"description\": \"Th...  fake  \n",
       "0   {\"description\": \"\\u201cWe believe at this poin...  real  \n",
       "68  {\"description\": \"This changes EVERYTHING!\", \"o...  fake  "
      ]
     },
     "execution_count": 13,
     "metadata": {},
     "output_type": "execute_result"
    }
   ],
   "source": [
    "df.head()"
   ]
  },
  {
   "cell_type": "code",
   "execution_count": 14,
   "metadata": {
    "collapsed": false
   },
   "outputs": [
    {
     "data": {
      "text/plain": [
       "Index(['title', 'text', 'url', 'authors', 'source', 'meta_data', 'label'], dtype='object')"
      ]
     },
     "execution_count": 14,
     "metadata": {},
     "output_type": "execute_result"
    }
   ],
   "source": [
    "df.columns"
   ]
  },
  {
   "cell_type": "code",
   "execution_count": 15,
   "metadata": {
    "collapsed": true
   },
   "outputs": [],
   "source": [
    "from nltk.tokenize import WordPunctTokenizer\n",
    "from bs4 import BeautifulSoup\n",
    "import re\n",
    "tok = WordPunctTokenizer()\n",
    "pat1 = r'@[A-Za-z0-9]+'\n",
    "pat2 = r'https?://[A-Za-z0-9./]+'\n",
    "combined_pat = r'|'.join((pat1, pat2))\n",
    "\n",
    "def tweet_cleaner(text):\n",
    "    soup = BeautifulSoup(text, 'lxml')\n",
    "    souped = soup.get_text()\n",
    "    stripped = re.sub(combined_pat, '', souped)\n",
    "    try:\n",
    "        clean = stripped.decode(\"utf-8-sig\").replace(u\"\\ufffd\", \"?\")\n",
    "    except:\n",
    "        clean = stripped\n",
    "    letters_only = re.sub(\"[^a-zA-Z]\", \" \", clean)\n",
    "    lower_case = letters_only.lower()\n",
    "    # During the letters_only process two lines above, it has created unnecessay white spaces,\n",
    "    # I will tokenize and join together to remove unneccessary white spaces\n",
    "    words = tok.tokenize(lower_case)\n",
    "    return (\" \".join(words)).strip()"
   ]
  },
  {
   "cell_type": "code",
   "execution_count": 16,
   "metadata": {
    "collapsed": true
   },
   "outputs": [],
   "source": [
    "df['title'] = df['title'].apply(tweet_cleaner)\n",
    "df['text'] = df['text'].apply(tweet_cleaner)\n",
    "df['meta_data'] = df['meta_data'].apply(tweet_cleaner)"
   ]
  },
  {
   "cell_type": "code",
   "execution_count": 17,
   "metadata": {
    "collapsed": true
   },
   "outputs": [],
   "source": [
    "def all_X(row):\n",
    "    try:\n",
    "        return row['title']+\" \"+row[\"text\"]+\" \"+row[\"meta_data\"]\n",
    "    except: print(\"error\", row)\n",
    "        #giving out the error fields.\n",
    "        \n",
    "        \n",
    "df[\"all_X\"]= df.apply(all_X,axis=1)"
   ]
  },
  {
   "cell_type": "code",
   "execution_count": 18,
   "metadata": {
    "collapsed": true
   },
   "outputs": [],
   "source": [
    "df = df[['all_X', 'label']]"
   ]
  },
  {
   "cell_type": "code",
   "execution_count": 19,
   "metadata": {
    "collapsed": false
   },
   "outputs": [
    {
     "data": {
      "text/plain": [
       "Index(['all_X', 'label'], dtype='object')"
      ]
     },
     "execution_count": 19,
     "metadata": {},
     "output_type": "execute_result"
    }
   ],
   "source": [
    "df.columns"
   ]
  },
  {
   "cell_type": "code",
   "execution_count": 20,
   "metadata": {
    "collapsed": true
   },
   "outputs": [],
   "source": [
    "#Assign text to X variable and labels to y\n",
    "\n",
    "X = df.all_X\n",
    "y = df.label"
   ]
  },
  {
   "cell_type": "code",
   "execution_count": 21,
   "metadata": {
    "collapsed": true
   },
   "outputs": [],
   "source": [
    "#Intialize Count Vectorizer\n",
    "count_vec = CountVectorizer(lowercase=True, stop_words=\"english\", ngram_range=(1,2),\n",
    "                           min_df = 3)\n",
    "#Fit Count Vectorizer\n",
    "dtm_cv = count_vec.fit_transform(X)\n",
    "#Convert it to a pandas data frame\n",
    "df_cv = pd.DataFrame(dtm_cv.toarray(), columns=count_vec.get_feature_names())"
   ]
  },
  {
   "cell_type": "code",
   "execution_count": 22,
   "metadata": {
    "collapsed": false
   },
   "outputs": [
    {
     "data": {
      "text/html": [
       "<div>\n",
       "<style scoped>\n",
       "    .dataframe tbody tr th:only-of-type {\n",
       "        vertical-align: middle;\n",
       "    }\n",
       "\n",
       "    .dataframe tbody tr th {\n",
       "        vertical-align: top;\n",
       "    }\n",
       "\n",
       "    .dataframe thead th {\n",
       "        text-align: right;\n",
       "    }\n",
       "</style>\n",
       "<table border=\"1\" class=\"dataframe\">\n",
       "  <thead>\n",
       "    <tr style=\"text-align: right;\">\n",
       "      <th></th>\n",
       "      <th>abandon</th>\n",
       "      <th>abandoned</th>\n",
       "      <th>abc</th>\n",
       "      <th>abc abcnews</th>\n",
       "      <th>abc news</th>\n",
       "      <th>abcnews</th>\n",
       "      <th>abcnews abcnews</th>\n",
       "      <th>abcnews card</th>\n",
       "      <th>abcnews com</th>\n",
       "      <th>abcnews iphone</th>\n",
       "      <th>...</th>\n",
       "      <th>young</th>\n",
       "      <th>young adults</th>\n",
       "      <th>younger</th>\n",
       "      <th>zde</th>\n",
       "      <th>zde rd</th>\n",
       "      <th>zero</th>\n",
       "      <th>zuthf</th>\n",
       "      <th>zuthf dco</th>\n",
       "      <th>zyx</th>\n",
       "      <th>zyx bqy</th>\n",
       "    </tr>\n",
       "  </thead>\n",
       "  <tbody>\n",
       "    <tr>\n",
       "      <th>0</th>\n",
       "      <td>0</td>\n",
       "      <td>0</td>\n",
       "      <td>0</td>\n",
       "      <td>0</td>\n",
       "      <td>0</td>\n",
       "      <td>0</td>\n",
       "      <td>0</td>\n",
       "      <td>0</td>\n",
       "      <td>0</td>\n",
       "      <td>0</td>\n",
       "      <td>...</td>\n",
       "      <td>0</td>\n",
       "      <td>0</td>\n",
       "      <td>0</td>\n",
       "      <td>0</td>\n",
       "      <td>0</td>\n",
       "      <td>0</td>\n",
       "      <td>0</td>\n",
       "      <td>0</td>\n",
       "      <td>0</td>\n",
       "      <td>0</td>\n",
       "    </tr>\n",
       "    <tr>\n",
       "      <th>1</th>\n",
       "      <td>0</td>\n",
       "      <td>0</td>\n",
       "      <td>0</td>\n",
       "      <td>0</td>\n",
       "      <td>0</td>\n",
       "      <td>0</td>\n",
       "      <td>0</td>\n",
       "      <td>0</td>\n",
       "      <td>0</td>\n",
       "      <td>0</td>\n",
       "      <td>...</td>\n",
       "      <td>0</td>\n",
       "      <td>0</td>\n",
       "      <td>0</td>\n",
       "      <td>0</td>\n",
       "      <td>0</td>\n",
       "      <td>0</td>\n",
       "      <td>0</td>\n",
       "      <td>0</td>\n",
       "      <td>0</td>\n",
       "      <td>0</td>\n",
       "    </tr>\n",
       "    <tr>\n",
       "      <th>2</th>\n",
       "      <td>0</td>\n",
       "      <td>0</td>\n",
       "      <td>0</td>\n",
       "      <td>0</td>\n",
       "      <td>0</td>\n",
       "      <td>0</td>\n",
       "      <td>0</td>\n",
       "      <td>0</td>\n",
       "      <td>0</td>\n",
       "      <td>0</td>\n",
       "      <td>...</td>\n",
       "      <td>0</td>\n",
       "      <td>0</td>\n",
       "      <td>0</td>\n",
       "      <td>0</td>\n",
       "      <td>0</td>\n",
       "      <td>0</td>\n",
       "      <td>0</td>\n",
       "      <td>0</td>\n",
       "      <td>0</td>\n",
       "      <td>0</td>\n",
       "    </tr>\n",
       "    <tr>\n",
       "      <th>3</th>\n",
       "      <td>0</td>\n",
       "      <td>0</td>\n",
       "      <td>0</td>\n",
       "      <td>0</td>\n",
       "      <td>0</td>\n",
       "      <td>0</td>\n",
       "      <td>0</td>\n",
       "      <td>0</td>\n",
       "      <td>0</td>\n",
       "      <td>0</td>\n",
       "      <td>...</td>\n",
       "      <td>0</td>\n",
       "      <td>0</td>\n",
       "      <td>0</td>\n",
       "      <td>0</td>\n",
       "      <td>0</td>\n",
       "      <td>0</td>\n",
       "      <td>0</td>\n",
       "      <td>0</td>\n",
       "      <td>0</td>\n",
       "      <td>0</td>\n",
       "    </tr>\n",
       "    <tr>\n",
       "      <th>4</th>\n",
       "      <td>0</td>\n",
       "      <td>0</td>\n",
       "      <td>0</td>\n",
       "      <td>0</td>\n",
       "      <td>0</td>\n",
       "      <td>0</td>\n",
       "      <td>0</td>\n",
       "      <td>0</td>\n",
       "      <td>0</td>\n",
       "      <td>0</td>\n",
       "      <td>...</td>\n",
       "      <td>0</td>\n",
       "      <td>0</td>\n",
       "      <td>0</td>\n",
       "      <td>0</td>\n",
       "      <td>0</td>\n",
       "      <td>0</td>\n",
       "      <td>0</td>\n",
       "      <td>0</td>\n",
       "      <td>0</td>\n",
       "      <td>0</td>\n",
       "    </tr>\n",
       "  </tbody>\n",
       "</table>\n",
       "<p>5 rows × 4191 columns</p>\n",
       "</div>"
      ],
      "text/plain": [
       "   abandon  abandoned  abc  abc abcnews  abc news  abcnews  abcnews abcnews  \\\n",
       "0        0          0    0            0         0        0                0   \n",
       "1        0          0    0            0         0        0                0   \n",
       "2        0          0    0            0         0        0                0   \n",
       "3        0          0    0            0         0        0                0   \n",
       "4        0          0    0            0         0        0                0   \n",
       "\n",
       "   abcnews card  abcnews com  abcnews iphone   ...     young  young adults  \\\n",
       "0             0            0               0   ...         0             0   \n",
       "1             0            0               0   ...         0             0   \n",
       "2             0            0               0   ...         0             0   \n",
       "3             0            0               0   ...         0             0   \n",
       "4             0            0               0   ...         0             0   \n",
       "\n",
       "   younger  zde  zde rd  zero  zuthf  zuthf dco  zyx  zyx bqy  \n",
       "0        0    0       0     0      0          0    0        0  \n",
       "1        0    0       0     0      0          0    0        0  \n",
       "2        0    0       0     0      0          0    0        0  \n",
       "3        0    0       0     0      0          0    0        0  \n",
       "4        0    0       0     0      0          0    0        0  \n",
       "\n",
       "[5 rows x 4191 columns]"
      ]
     },
     "execution_count": 22,
     "metadata": {},
     "output_type": "execute_result"
    }
   ],
   "source": [
    "df_cv.head()"
   ]
  },
  {
   "cell_type": "code",
   "execution_count": 23,
   "metadata": {
    "collapsed": false
   },
   "outputs": [
    {
     "data": {
      "text/plain": [
       "(182, 4191)"
      ]
     },
     "execution_count": 23,
     "metadata": {},
     "output_type": "execute_result"
    }
   ],
   "source": [
    "df_cv.shape"
   ]
  },
  {
   "cell_type": "code",
   "execution_count": 24,
   "metadata": {
    "collapsed": true
   },
   "outputs": [],
   "source": [
    "x_train, x_test, y_train, y_test = train_test_split(df_cv,y,test_size=0.1)"
   ]
  },
  {
   "cell_type": "code",
   "execution_count": 36,
   "metadata": {
    "collapsed": true
   },
   "outputs": [],
   "source": [
    "from sklearn.neighbors import KNeighborsClassifier \n",
    "knn = KNeighborsClassifier(n_neighbors = 1) \n",
    "knn.fit(x_train, y_train) \n",
    "pred = knn.predict(x_test) "
   ]
  },
  {
   "cell_type": "code",
   "execution_count": 37,
   "metadata": {
    "collapsed": false
   },
   "outputs": [
    {
     "name": "stdout",
     "output_type": "stream",
     "text": [
      "[[8 1]\n",
      " [8 2]]\n",
      "              precision    recall  f1-score   support\n",
      "\n",
      "        fake       0.50      0.89      0.64         9\n",
      "        real       0.67      0.20      0.31        10\n",
      "\n",
      "   micro avg       0.53      0.53      0.53        19\n",
      "   macro avg       0.58      0.54      0.47        19\n",
      "weighted avg       0.59      0.53      0.47        19\n",
      "\n",
      "accuracy =  0.5263157894736842\n"
     ]
    }
   ],
   "source": [
    "from sklearn.metrics import classification_report, confusion_matrix \n",
    "print(confusion_matrix(y_test, pred)) \n",
    "  \n",
    "print(classification_report(y_test, pred)) \n",
    "print('accuracy = ', knn.score(x_test, y_test))"
   ]
  },
  {
   "cell_type": "code",
   "execution_count": 38,
   "metadata": {
    "collapsed": false
   },
   "outputs": [
    {
     "data": {
      "text/plain": [
       "Text(0, 0.5, 'Error Rate')"
      ]
     },
     "execution_count": 38,
     "metadata": {},
     "output_type": "execute_result"
    },
    {
     "data": {
      "image/png": "[encoded data removed]",
      "text/plain": [
       "<Figure size 1000x600 with 1 Axes>"
      ]
     },
     "metadata": {},
     "output_type": "display_data"
    }
   ],
   "source": [
    "import matplotlib.pyplot as plt\n",
    "%matplotlib inline\n",
    "import numpy as np\n",
    "error_rate = [] \n",
    "  \n",
    "# Will take some time \n",
    "for i in range(1, 40): \n",
    "      \n",
    "    knn = KNeighborsClassifier(n_neighbors = i) \n",
    "    knn.fit(x_train, y_train) \n",
    "    pred_i = knn.predict(x_test) \n",
    "    error_rate.append(np.mean(pred_i != y_test)) \n",
    "  \n",
    "plt.figure(figsize =(10, 6)) \n",
    "plt.plot(range(1, 40), error_rate, color ='blue', \n",
    "                linestyle ='dashed', marker ='o', \n",
    "         markerfacecolor ='red', markersize = 10) \n",
    "  \n",
    "plt.title('Error Rate vs. K Value') \n",
    "plt.xlabel('K') \n",
    "plt.ylabel('Error Rate') \n"
   ]
  },
  {
   "cell_type": "code",
   "execution_count": 30,
   "metadata": {
    "collapsed": true
   },
   "outputs": [],
   "source": [
    "#error rate for k=1 is very high\n",
    "#error rate is least after k = 33"
   ]
  },
  {
   "cell_type": "code",
   "execution_count": 40,
   "metadata": {
    "collapsed": false
   },
   "outputs": [
    {
     "name": "stdout",
     "output_type": "stream",
     "text": [
      "[[9 0]\n",
      " [7 3]]\n",
      "              precision    recall  f1-score   support\n",
      "\n",
      "        fake       0.56      1.00      0.72         9\n",
      "        real       1.00      0.30      0.46        10\n",
      "\n",
      "   micro avg       0.63      0.63      0.63        19\n",
      "   macro avg       0.78      0.65      0.59        19\n",
      "weighted avg       0.79      0.63      0.58        19\n",
      "\n",
      "accuracy =  0.631578947368421\n"
     ]
    }
   ],
   "source": [
    "knn = KNeighborsClassifier(n_neighbors = 33) \n",
    "knn.fit(x_train, y_train) \n",
    "pred = knn.predict(x_test)\n",
    "\n",
    "print(confusion_matrix(y_test, pred)) \n",
    "  \n",
    "print(classification_report(y_test, pred)) \n",
    "print('accuracy = ', knn.score(x_test, y_test))"
   ]
  },
  {
   "cell_type": "code",
   "execution_count": 45,
   "metadata": {
    "collapsed": false
   },
   "outputs": [
    {
     "name": "stdout",
     "output_type": "stream",
     "text": [
      "Model accuracy : 63.16%\n",
      "cross validation : 65.71%\n"
     ]
    }
   ],
   "source": [
    "from sklearn.model_selection import cross_val_score\n",
    "from sklearn.metrics import accuracy_score\n",
    "acuracy = cross_val_score(estimator = knn, X = x_train, y = y_train, cv=10)\n",
    "print(\"Model accuracy : {:0.2f}%\".format(accuracy_score(pred,y_test)*100))\n",
    "print(\"cross validation : {:0.2f}%\".format(acuracy.mean()*100))"
   ]
  },
  {
   "cell_type": "code",
   "execution_count": null,
   "metadata": {
    "collapsed": true
   },
   "outputs": [],
   "source": []
  }
 ],
 "metadata": {
  "kernelspec": {
   "display_name": "Python 3",
   "language": "python",
   "name": "python3"
  },
  "language_info": {
   "codemirror_mode": {
    "name": "ipython",
    "version": 3
   },
   "file_extension": ".py",
   "mimetype": "text/x-python",
   "name": "python",
   "nbconvert_exporter": "python",
   "pygments_lexer": "ipython3",
   "version": "3.5.6"
  }
 },
 "nbformat": 4,
 "nbformat_minor": 0
}
